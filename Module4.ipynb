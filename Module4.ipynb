{
  "nbformat": 4,
  "nbformat_minor": 0,
  "metadata": {
    "colab": {
      "provenance": []
    },
    "kernelspec": {
      "name": "python3",
      "display_name": "Python 3"
    },
    "language_info": {
      "name": "python"
    }
  },
  "cells": [
    {
      "cell_type": "code",
      "execution_count": 42,
      "metadata": {
        "id": "bc7gFKku1nBO"
      },
      "outputs": [],
      "source": [
        "import pandas as pd\n",
        "from sklearn.datasets import load_breast_cancer\n",
        "df= pd.DataFrame(load_breast_cancer()['data'], columns=load_breast_cancer()['feature_names'])\n",
        "df['y']= load_breast_cancer()['target']"
      ]
    },
    {
      "cell_type": "code",
      "source": [
        "from sklearn.tree import DecisionTreeClassifier\n",
        "from sklearn.model_selection import train_test_split\n",
        "from sklearn import metrics"
      ],
      "metadata": {
        "id": "050RoEIj2pKR"
      },
      "execution_count": 43,
      "outputs": []
    },
    {
      "cell_type": "code",
      "source": [
        "df.head()"
      ],
      "metadata": {
        "colab": {
          "base_uri": "https://localhost:8080/",
          "height": 290
        },
        "id": "uIFMSpJV3T3N",
        "outputId": "63f9512d-d59f-4676-8ebe-1e07e3c77ab9"
      },
      "execution_count": 44,
      "outputs": [
        {
          "output_type": "execute_result",
          "data": {
            "text/plain": [
              "   mean radius  mean texture  mean perimeter  mean area  mean smoothness  \\\n",
              "0        17.99         10.38          122.80     1001.0          0.11840   \n",
              "1        20.57         17.77          132.90     1326.0          0.08474   \n",
              "2        19.69         21.25          130.00     1203.0          0.10960   \n",
              "3        11.42         20.38           77.58      386.1          0.14250   \n",
              "4        20.29         14.34          135.10     1297.0          0.10030   \n",
              "\n",
              "   mean compactness  mean concavity  mean concave points  mean symmetry  \\\n",
              "0           0.27760          0.3001              0.14710         0.2419   \n",
              "1           0.07864          0.0869              0.07017         0.1812   \n",
              "2           0.15990          0.1974              0.12790         0.2069   \n",
              "3           0.28390          0.2414              0.10520         0.2597   \n",
              "4           0.13280          0.1980              0.10430         0.1809   \n",
              "\n",
              "   mean fractal dimension  ...  worst texture  worst perimeter  worst area  \\\n",
              "0                 0.07871  ...          17.33           184.60      2019.0   \n",
              "1                 0.05667  ...          23.41           158.80      1956.0   \n",
              "2                 0.05999  ...          25.53           152.50      1709.0   \n",
              "3                 0.09744  ...          26.50            98.87       567.7   \n",
              "4                 0.05883  ...          16.67           152.20      1575.0   \n",
              "\n",
              "   worst smoothness  worst compactness  worst concavity  worst concave points  \\\n",
              "0            0.1622             0.6656           0.7119                0.2654   \n",
              "1            0.1238             0.1866           0.2416                0.1860   \n",
              "2            0.1444             0.4245           0.4504                0.2430   \n",
              "3            0.2098             0.8663           0.6869                0.2575   \n",
              "4            0.1374             0.2050           0.4000                0.1625   \n",
              "\n",
              "   worst symmetry  worst fractal dimension  y  \n",
              "0          0.4601                  0.11890  0  \n",
              "1          0.2750                  0.08902  0  \n",
              "2          0.3613                  0.08758  0  \n",
              "3          0.6638                  0.17300  0  \n",
              "4          0.2364                  0.07678  0  \n",
              "\n",
              "[5 rows x 31 columns]"
            ],
            "text/html": [
              "\n",
              "  <div id=\"df-12abf645-0fca-424f-a367-97c8eec622e5\" class=\"colab-df-container\">\n",
              "    <div>\n",
              "<style scoped>\n",
              "    .dataframe tbody tr th:only-of-type {\n",
              "        vertical-align: middle;\n",
              "    }\n",
              "\n",
              "    .dataframe tbody tr th {\n",
              "        vertical-align: top;\n",
              "    }\n",
              "\n",
              "    .dataframe thead th {\n",
              "        text-align: right;\n",
              "    }\n",
              "</style>\n",
              "<table border=\"1\" class=\"dataframe\">\n",
              "  <thead>\n",
              "    <tr style=\"text-align: right;\">\n",
              "      <th></th>\n",
              "      <th>mean radius</th>\n",
              "      <th>mean texture</th>\n",
              "      <th>mean perimeter</th>\n",
              "      <th>mean area</th>\n",
              "      <th>mean smoothness</th>\n",
              "      <th>mean compactness</th>\n",
              "      <th>mean concavity</th>\n",
              "      <th>mean concave points</th>\n",
              "      <th>mean symmetry</th>\n",
              "      <th>mean fractal dimension</th>\n",
              "      <th>...</th>\n",
              "      <th>worst texture</th>\n",
              "      <th>worst perimeter</th>\n",
              "      <th>worst area</th>\n",
              "      <th>worst smoothness</th>\n",
              "      <th>worst compactness</th>\n",
              "      <th>worst concavity</th>\n",
              "      <th>worst concave points</th>\n",
              "      <th>worst symmetry</th>\n",
              "      <th>worst fractal dimension</th>\n",
              "      <th>y</th>\n",
              "    </tr>\n",
              "  </thead>\n",
              "  <tbody>\n",
              "    <tr>\n",
              "      <th>0</th>\n",
              "      <td>17.99</td>\n",
              "      <td>10.38</td>\n",
              "      <td>122.80</td>\n",
              "      <td>1001.0</td>\n",
              "      <td>0.11840</td>\n",
              "      <td>0.27760</td>\n",
              "      <td>0.3001</td>\n",
              "      <td>0.14710</td>\n",
              "      <td>0.2419</td>\n",
              "      <td>0.07871</td>\n",
              "      <td>...</td>\n",
              "      <td>17.33</td>\n",
              "      <td>184.60</td>\n",
              "      <td>2019.0</td>\n",
              "      <td>0.1622</td>\n",
              "      <td>0.6656</td>\n",
              "      <td>0.7119</td>\n",
              "      <td>0.2654</td>\n",
              "      <td>0.4601</td>\n",
              "      <td>0.11890</td>\n",
              "      <td>0</td>\n",
              "    </tr>\n",
              "    <tr>\n",
              "      <th>1</th>\n",
              "      <td>20.57</td>\n",
              "      <td>17.77</td>\n",
              "      <td>132.90</td>\n",
              "      <td>1326.0</td>\n",
              "      <td>0.08474</td>\n",
              "      <td>0.07864</td>\n",
              "      <td>0.0869</td>\n",
              "      <td>0.07017</td>\n",
              "      <td>0.1812</td>\n",
              "      <td>0.05667</td>\n",
              "      <td>...</td>\n",
              "      <td>23.41</td>\n",
              "      <td>158.80</td>\n",
              "      <td>1956.0</td>\n",
              "      <td>0.1238</td>\n",
              "      <td>0.1866</td>\n",
              "      <td>0.2416</td>\n",
              "      <td>0.1860</td>\n",
              "      <td>0.2750</td>\n",
              "      <td>0.08902</td>\n",
              "      <td>0</td>\n",
              "    </tr>\n",
              "    <tr>\n",
              "      <th>2</th>\n",
              "      <td>19.69</td>\n",
              "      <td>21.25</td>\n",
              "      <td>130.00</td>\n",
              "      <td>1203.0</td>\n",
              "      <td>0.10960</td>\n",
              "      <td>0.15990</td>\n",
              "      <td>0.1974</td>\n",
              "      <td>0.12790</td>\n",
              "      <td>0.2069</td>\n",
              "      <td>0.05999</td>\n",
              "      <td>...</td>\n",
              "      <td>25.53</td>\n",
              "      <td>152.50</td>\n",
              "      <td>1709.0</td>\n",
              "      <td>0.1444</td>\n",
              "      <td>0.4245</td>\n",
              "      <td>0.4504</td>\n",
              "      <td>0.2430</td>\n",
              "      <td>0.3613</td>\n",
              "      <td>0.08758</td>\n",
              "      <td>0</td>\n",
              "    </tr>\n",
              "    <tr>\n",
              "      <th>3</th>\n",
              "      <td>11.42</td>\n",
              "      <td>20.38</td>\n",
              "      <td>77.58</td>\n",
              "      <td>386.1</td>\n",
              "      <td>0.14250</td>\n",
              "      <td>0.28390</td>\n",
              "      <td>0.2414</td>\n",
              "      <td>0.10520</td>\n",
              "      <td>0.2597</td>\n",
              "      <td>0.09744</td>\n",
              "      <td>...</td>\n",
              "      <td>26.50</td>\n",
              "      <td>98.87</td>\n",
              "      <td>567.7</td>\n",
              "      <td>0.2098</td>\n",
              "      <td>0.8663</td>\n",
              "      <td>0.6869</td>\n",
              "      <td>0.2575</td>\n",
              "      <td>0.6638</td>\n",
              "      <td>0.17300</td>\n",
              "      <td>0</td>\n",
              "    </tr>\n",
              "    <tr>\n",
              "      <th>4</th>\n",
              "      <td>20.29</td>\n",
              "      <td>14.34</td>\n",
              "      <td>135.10</td>\n",
              "      <td>1297.0</td>\n",
              "      <td>0.10030</td>\n",
              "      <td>0.13280</td>\n",
              "      <td>0.1980</td>\n",
              "      <td>0.10430</td>\n",
              "      <td>0.1809</td>\n",
              "      <td>0.05883</td>\n",
              "      <td>...</td>\n",
              "      <td>16.67</td>\n",
              "      <td>152.20</td>\n",
              "      <td>1575.0</td>\n",
              "      <td>0.1374</td>\n",
              "      <td>0.2050</td>\n",
              "      <td>0.4000</td>\n",
              "      <td>0.1625</td>\n",
              "      <td>0.2364</td>\n",
              "      <td>0.07678</td>\n",
              "      <td>0</td>\n",
              "    </tr>\n",
              "  </tbody>\n",
              "</table>\n",
              "<p>5 rows × 31 columns</p>\n",
              "</div>\n",
              "    <div class=\"colab-df-buttons\">\n",
              "\n",
              "  <div class=\"colab-df-container\">\n",
              "    <button class=\"colab-df-convert\" onclick=\"convertToInteractive('df-12abf645-0fca-424f-a367-97c8eec622e5')\"\n",
              "            title=\"Convert this dataframe to an interactive table.\"\n",
              "            style=\"display:none;\">\n",
              "\n",
              "  <svg xmlns=\"http://www.w3.org/2000/svg\" height=\"24px\" viewBox=\"0 -960 960 960\">\n",
              "    <path d=\"M120-120v-720h720v720H120Zm60-500h600v-160H180v160Zm220 220h160v-160H400v160Zm0 220h160v-160H400v160ZM180-400h160v-160H180v160Zm440 0h160v-160H620v160ZM180-180h160v-160H180v160Zm440 0h160v-160H620v160Z\"/>\n",
              "  </svg>\n",
              "    </button>\n",
              "\n",
              "  <style>\n",
              "    .colab-df-container {\n",
              "      display:flex;\n",
              "      gap: 12px;\n",
              "    }\n",
              "\n",
              "    .colab-df-convert {\n",
              "      background-color: #E8F0FE;\n",
              "      border: none;\n",
              "      border-radius: 50%;\n",
              "      cursor: pointer;\n",
              "      display: none;\n",
              "      fill: #1967D2;\n",
              "      height: 32px;\n",
              "      padding: 0 0 0 0;\n",
              "      width: 32px;\n",
              "    }\n",
              "\n",
              "    .colab-df-convert:hover {\n",
              "      background-color: #E2EBFA;\n",
              "      box-shadow: 0px 1px 2px rgba(60, 64, 67, 0.3), 0px 1px 3px 1px rgba(60, 64, 67, 0.15);\n",
              "      fill: #174EA6;\n",
              "    }\n",
              "\n",
              "    .colab-df-buttons div {\n",
              "      margin-bottom: 4px;\n",
              "    }\n",
              "\n",
              "    [theme=dark] .colab-df-convert {\n",
              "      background-color: #3B4455;\n",
              "      fill: #D2E3FC;\n",
              "    }\n",
              "\n",
              "    [theme=dark] .colab-df-convert:hover {\n",
              "      background-color: #434B5C;\n",
              "      box-shadow: 0px 1px 3px 1px rgba(0, 0, 0, 0.15);\n",
              "      filter: drop-shadow(0px 1px 2px rgba(0, 0, 0, 0.3));\n",
              "      fill: #FFFFFF;\n",
              "    }\n",
              "  </style>\n",
              "\n",
              "    <script>\n",
              "      const buttonEl =\n",
              "        document.querySelector('#df-12abf645-0fca-424f-a367-97c8eec622e5 button.colab-df-convert');\n",
              "      buttonEl.style.display =\n",
              "        google.colab.kernel.accessAllowed ? 'block' : 'none';\n",
              "\n",
              "      async function convertToInteractive(key) {\n",
              "        const element = document.querySelector('#df-12abf645-0fca-424f-a367-97c8eec622e5');\n",
              "        const dataTable =\n",
              "          await google.colab.kernel.invokeFunction('convertToInteractive',\n",
              "                                                    [key], {});\n",
              "        if (!dataTable) return;\n",
              "\n",
              "        const docLinkHtml = 'Like what you see? Visit the ' +\n",
              "          '<a target=\"_blank\" href=https://colab.research.google.com/notebooks/data_table.ipynb>data table notebook</a>'\n",
              "          + ' to learn more about interactive tables.';\n",
              "        element.innerHTML = '';\n",
              "        dataTable['output_type'] = 'display_data';\n",
              "        await google.colab.output.renderOutput(dataTable, element);\n",
              "        const docLink = document.createElement('div');\n",
              "        docLink.innerHTML = docLinkHtml;\n",
              "        element.appendChild(docLink);\n",
              "      }\n",
              "    </script>\n",
              "  </div>\n",
              "\n",
              "\n",
              "<div id=\"df-b3567f32-08bc-4ab2-b3fd-e63320f71f45\">\n",
              "  <button class=\"colab-df-quickchart\" onclick=\"quickchart('df-b3567f32-08bc-4ab2-b3fd-e63320f71f45')\"\n",
              "            title=\"Suggest charts\"\n",
              "            style=\"display:none;\">\n",
              "\n",
              "<svg xmlns=\"http://www.w3.org/2000/svg\" height=\"24px\"viewBox=\"0 0 24 24\"\n",
              "     width=\"24px\">\n",
              "    <g>\n",
              "        <path d=\"M19 3H5c-1.1 0-2 .9-2 2v14c0 1.1.9 2 2 2h14c1.1 0 2-.9 2-2V5c0-1.1-.9-2-2-2zM9 17H7v-7h2v7zm4 0h-2V7h2v10zm4 0h-2v-4h2v4z\"/>\n",
              "    </g>\n",
              "</svg>\n",
              "  </button>\n",
              "\n",
              "<style>\n",
              "  .colab-df-quickchart {\n",
              "      --bg-color: #E8F0FE;\n",
              "      --fill-color: #1967D2;\n",
              "      --hover-bg-color: #E2EBFA;\n",
              "      --hover-fill-color: #174EA6;\n",
              "      --disabled-fill-color: #AAA;\n",
              "      --disabled-bg-color: #DDD;\n",
              "  }\n",
              "\n",
              "  [theme=dark] .colab-df-quickchart {\n",
              "      --bg-color: #3B4455;\n",
              "      --fill-color: #D2E3FC;\n",
              "      --hover-bg-color: #434B5C;\n",
              "      --hover-fill-color: #FFFFFF;\n",
              "      --disabled-bg-color: #3B4455;\n",
              "      --disabled-fill-color: #666;\n",
              "  }\n",
              "\n",
              "  .colab-df-quickchart {\n",
              "    background-color: var(--bg-color);\n",
              "    border: none;\n",
              "    border-radius: 50%;\n",
              "    cursor: pointer;\n",
              "    display: none;\n",
              "    fill: var(--fill-color);\n",
              "    height: 32px;\n",
              "    padding: 0;\n",
              "    width: 32px;\n",
              "  }\n",
              "\n",
              "  .colab-df-quickchart:hover {\n",
              "    background-color: var(--hover-bg-color);\n",
              "    box-shadow: 0 1px 2px rgba(60, 64, 67, 0.3), 0 1px 3px 1px rgba(60, 64, 67, 0.15);\n",
              "    fill: var(--button-hover-fill-color);\n",
              "  }\n",
              "\n",
              "  .colab-df-quickchart-complete:disabled,\n",
              "  .colab-df-quickchart-complete:disabled:hover {\n",
              "    background-color: var(--disabled-bg-color);\n",
              "    fill: var(--disabled-fill-color);\n",
              "    box-shadow: none;\n",
              "  }\n",
              "\n",
              "  .colab-df-spinner {\n",
              "    border: 2px solid var(--fill-color);\n",
              "    border-color: transparent;\n",
              "    border-bottom-color: var(--fill-color);\n",
              "    animation:\n",
              "      spin 1s steps(1) infinite;\n",
              "  }\n",
              "\n",
              "  @keyframes spin {\n",
              "    0% {\n",
              "      border-color: transparent;\n",
              "      border-bottom-color: var(--fill-color);\n",
              "      border-left-color: var(--fill-color);\n",
              "    }\n",
              "    20% {\n",
              "      border-color: transparent;\n",
              "      border-left-color: var(--fill-color);\n",
              "      border-top-color: var(--fill-color);\n",
              "    }\n",
              "    30% {\n",
              "      border-color: transparent;\n",
              "      border-left-color: var(--fill-color);\n",
              "      border-top-color: var(--fill-color);\n",
              "      border-right-color: var(--fill-color);\n",
              "    }\n",
              "    40% {\n",
              "      border-color: transparent;\n",
              "      border-right-color: var(--fill-color);\n",
              "      border-top-color: var(--fill-color);\n",
              "    }\n",
              "    60% {\n",
              "      border-color: transparent;\n",
              "      border-right-color: var(--fill-color);\n",
              "    }\n",
              "    80% {\n",
              "      border-color: transparent;\n",
              "      border-right-color: var(--fill-color);\n",
              "      border-bottom-color: var(--fill-color);\n",
              "    }\n",
              "    90% {\n",
              "      border-color: transparent;\n",
              "      border-bottom-color: var(--fill-color);\n",
              "    }\n",
              "  }\n",
              "</style>\n",
              "\n",
              "  <script>\n",
              "    async function quickchart(key) {\n",
              "      const quickchartButtonEl =\n",
              "        document.querySelector('#' + key + ' button');\n",
              "      quickchartButtonEl.disabled = true;  // To prevent multiple clicks.\n",
              "      quickchartButtonEl.classList.add('colab-df-spinner');\n",
              "      try {\n",
              "        const charts = await google.colab.kernel.invokeFunction(\n",
              "            'suggestCharts', [key], {});\n",
              "      } catch (error) {\n",
              "        console.error('Error during call to suggestCharts:', error);\n",
              "      }\n",
              "      quickchartButtonEl.classList.remove('colab-df-spinner');\n",
              "      quickchartButtonEl.classList.add('colab-df-quickchart-complete');\n",
              "    }\n",
              "    (() => {\n",
              "      let quickchartButtonEl =\n",
              "        document.querySelector('#df-b3567f32-08bc-4ab2-b3fd-e63320f71f45 button');\n",
              "      quickchartButtonEl.style.display =\n",
              "        google.colab.kernel.accessAllowed ? 'block' : 'none';\n",
              "    })();\n",
              "  </script>\n",
              "</div>\n",
              "\n",
              "    </div>\n",
              "  </div>\n"
            ],
            "application/vnd.google.colaboratory.intrinsic+json": {
              "type": "dataframe",
              "variable_name": "df"
            }
          },
          "metadata": {},
          "execution_count": 44
        }
      ]
    },
    {
      "cell_type": "code",
      "source": [
        "df.info()"
      ],
      "metadata": {
        "colab": {
          "base_uri": "https://localhost:8080/"
        },
        "id": "Qc6KpFMf3svU",
        "outputId": "639abbe5-dc07-4dc1-e443-7bf6c5411182"
      },
      "execution_count": 45,
      "outputs": [
        {
          "output_type": "stream",
          "name": "stdout",
          "text": [
            "<class 'pandas.core.frame.DataFrame'>\n",
            "RangeIndex: 569 entries, 0 to 568\n",
            "Data columns (total 31 columns):\n",
            " #   Column                   Non-Null Count  Dtype  \n",
            "---  ------                   --------------  -----  \n",
            " 0   mean radius              569 non-null    float64\n",
            " 1   mean texture             569 non-null    float64\n",
            " 2   mean perimeter           569 non-null    float64\n",
            " 3   mean area                569 non-null    float64\n",
            " 4   mean smoothness          569 non-null    float64\n",
            " 5   mean compactness         569 non-null    float64\n",
            " 6   mean concavity           569 non-null    float64\n",
            " 7   mean concave points      569 non-null    float64\n",
            " 8   mean symmetry            569 non-null    float64\n",
            " 9   mean fractal dimension   569 non-null    float64\n",
            " 10  radius error             569 non-null    float64\n",
            " 11  texture error            569 non-null    float64\n",
            " 12  perimeter error          569 non-null    float64\n",
            " 13  area error               569 non-null    float64\n",
            " 14  smoothness error         569 non-null    float64\n",
            " 15  compactness error        569 non-null    float64\n",
            " 16  concavity error          569 non-null    float64\n",
            " 17  concave points error     569 non-null    float64\n",
            " 18  symmetry error           569 non-null    float64\n",
            " 19  fractal dimension error  569 non-null    float64\n",
            " 20  worst radius             569 non-null    float64\n",
            " 21  worst texture            569 non-null    float64\n",
            " 22  worst perimeter          569 non-null    float64\n",
            " 23  worst area               569 non-null    float64\n",
            " 24  worst smoothness         569 non-null    float64\n",
            " 25  worst compactness        569 non-null    float64\n",
            " 26  worst concavity          569 non-null    float64\n",
            " 27  worst concave points     569 non-null    float64\n",
            " 28  worst symmetry           569 non-null    float64\n",
            " 29  worst fractal dimension  569 non-null    float64\n",
            " 30  y                        569 non-null    int64  \n",
            "dtypes: float64(30), int64(1)\n",
            "memory usage: 137.9 KB\n"
          ]
        }
      ]
    },
    {
      "cell_type": "code",
      "source": [
        "X=df.iloc[:,:-1]\n",
        "y=df.iloc[:,-1]\n",
        "\n",
        "X_train, X_test, y_train, y_test= train_test_split(X,y, test_size=0.3, random_state=1)"
      ],
      "metadata": {
        "id": "LXrSefJP3ufo"
      },
      "execution_count": 76,
      "outputs": []
    },
    {
      "cell_type": "code",
      "source": [
        "feature_names= X.columns\n",
        "print(feature_names)"
      ],
      "metadata": {
        "colab": {
          "base_uri": "https://localhost:8080/"
        },
        "id": "Obuqi94A6Bei",
        "outputId": "6ee962fe-6b3b-49cb-f1b2-08fc86c3457e"
      },
      "execution_count": 77,
      "outputs": [
        {
          "output_type": "stream",
          "name": "stdout",
          "text": [
            "Index(['mean radius', 'mean texture', 'mean perimeter', 'mean area',\n",
            "       'mean smoothness', 'mean compactness', 'mean concavity',\n",
            "       'mean concave points', 'mean symmetry', 'mean fractal dimension',\n",
            "       'radius error', 'texture error', 'perimeter error', 'area error',\n",
            "       'smoothness error', 'compactness error', 'concavity error',\n",
            "       'concave points error', 'symmetry error', 'fractal dimension error',\n",
            "       'worst radius', 'worst texture', 'worst perimeter', 'worst area',\n",
            "       'worst smoothness', 'worst compactness', 'worst concavity',\n",
            "       'worst concave points', 'worst symmetry', 'worst fractal dimension'],\n",
            "      dtype='object')\n"
          ]
        }
      ]
    },
    {
      "cell_type": "markdown",
      "source": [
        "#Decision_Tree_Classifier"
      ],
      "metadata": {
        "id": "hWF92ta6_Y-m"
      }
    },
    {
      "cell_type": "code",
      "source": [
        "model= DecisionTreeClassifier()\n",
        "model= model.fit(X_train, y_train)"
      ],
      "metadata": {
        "id": "53La4RrH4QdF"
      },
      "execution_count": 78,
      "outputs": []
    },
    {
      "cell_type": "code",
      "source": [
        "y_pred= model.predict(X_test)\n",
        "y_train_predic= model.predict(X_train)"
      ],
      "metadata": {
        "id": "W--o2gU64pYz"
      },
      "execution_count": 79,
      "outputs": []
    },
    {
      "cell_type": "markdown",
      "source": [
        "##Results of the DecisionTreeClassifier:"
      ],
      "metadata": {
        "id": "eSz6lW6G7-lm"
      }
    },
    {
      "cell_type": "code",
      "source": [
        "accuracy=metrics.accuracy_score(y_pred, y_test)\n",
        "print(\"Train Accuracy:\", metrics.accuracy_score(y_train_predic, y_train))\n",
        "print(\"Test Accuracy:\", accuracy)"
      ],
      "metadata": {
        "colab": {
          "base_uri": "https://localhost:8080/"
        },
        "id": "i70FWX3_4xAj",
        "outputId": "1df9180d-0096-4d1c-8aed-21f3307142d8"
      },
      "execution_count": 80,
      "outputs": [
        {
          "output_type": "stream",
          "name": "stdout",
          "text": [
            "Train Accuracy: 1.0\n",
            "Test Accuracy: 0.9415204678362573\n"
          ]
        }
      ]
    },
    {
      "cell_type": "markdown",
      "source": [
        "##Hyperparameters:"
      ],
      "metadata": {
        "id": "qlJz9_kY8jj3"
      }
    },
    {
      "cell_type": "code",
      "source": [
        "hyper_parameters= {'criterion': [\"gini\", \"entropy\"], \"max_depth\":[10,20,50,100], 'min_samples_leaf':[10,20,50]}\n",
        "hyper=[]"
      ],
      "metadata": {
        "id": "26nCZl1r8jLH"
      },
      "execution_count": 81,
      "outputs": []
    },
    {
      "cell_type": "code",
      "source": [
        "for i in hyper_parameters['criterion']:            ##GridSearchCV performs this automatically\n",
        "  for j in hyper_parameters['max_depth']:\n",
        "    for k in hyper_parameters['min_samples_leaf']:\n",
        "      model= DecisionTreeClassifier(criterion=i, max_depth=j, min_samples_leaf=k)\n",
        "      model= model.fit(X_train, y_train)\n",
        "      y_pred= model.predict(X_test)\n",
        "      y_train_predic= model.predict(X_train)\n",
        "      accuracy_hyper=metrics.accuracy_score(y_pred, y_test)\n",
        "      print('With {}, max_depth={}, min_samples_leaf={}'.format(i,j,k))\n",
        "      print(\"Train Accuracy:\", metrics.accuracy_score(y_train_predic, y_train))\n",
        "      print(\"Test Accuracy:\", accuracy_hyper)\n",
        "      print()\n",
        "      if accuracy_hyper> accuracy:\n",
        "        accuracy= accuracy_hyper\n",
        "        #make a special note\n",
        "        hyper=[i,j,k]\n",
        "print(accuracy, hyper)"
      ],
      "metadata": {
        "colab": {
          "base_uri": "https://localhost:8080/"
        },
        "id": "L0p4bl9H8Qgs",
        "outputId": "1e4ef47e-1a5f-477d-92cb-c35f763648c4"
      },
      "execution_count": 82,
      "outputs": [
        {
          "output_type": "stream",
          "name": "stdout",
          "text": [
            "With gini, max_depth=10, min_samples_leaf=10\n",
            "Train Accuracy: 0.957286432160804\n",
            "Test Accuracy: 0.8654970760233918\n",
            "\n",
            "With gini, max_depth=10, min_samples_leaf=20\n",
            "Train Accuracy: 0.9396984924623115\n",
            "Test Accuracy: 0.8538011695906432\n",
            "\n",
            "With gini, max_depth=10, min_samples_leaf=50\n",
            "Train Accuracy: 0.9396984924623115\n",
            "Test Accuracy: 0.8538011695906432\n",
            "\n",
            "With gini, max_depth=20, min_samples_leaf=10\n",
            "Train Accuracy: 0.957286432160804\n",
            "Test Accuracy: 0.8654970760233918\n",
            "\n",
            "With gini, max_depth=20, min_samples_leaf=20\n",
            "Train Accuracy: 0.9396984924623115\n",
            "Test Accuracy: 0.8538011695906432\n",
            "\n",
            "With gini, max_depth=20, min_samples_leaf=50\n",
            "Train Accuracy: 0.9396984924623115\n",
            "Test Accuracy: 0.8538011695906432\n",
            "\n",
            "With gini, max_depth=50, min_samples_leaf=10\n",
            "Train Accuracy: 0.957286432160804\n",
            "Test Accuracy: 0.8654970760233918\n",
            "\n",
            "With gini, max_depth=50, min_samples_leaf=20\n",
            "Train Accuracy: 0.9396984924623115\n",
            "Test Accuracy: 0.8538011695906432\n",
            "\n",
            "With gini, max_depth=50, min_samples_leaf=50\n",
            "Train Accuracy: 0.9396984924623115\n",
            "Test Accuracy: 0.8538011695906432\n",
            "\n",
            "With gini, max_depth=100, min_samples_leaf=10\n",
            "Train Accuracy: 0.957286432160804\n",
            "Test Accuracy: 0.8654970760233918\n",
            "\n",
            "With gini, max_depth=100, min_samples_leaf=20\n",
            "Train Accuracy: 0.9396984924623115\n",
            "Test Accuracy: 0.8538011695906432\n",
            "\n",
            "With gini, max_depth=100, min_samples_leaf=50\n",
            "Train Accuracy: 0.9396984924623115\n",
            "Test Accuracy: 0.8538011695906432\n",
            "\n",
            "With entropy, max_depth=10, min_samples_leaf=10\n",
            "Train Accuracy: 0.9673366834170855\n",
            "Test Accuracy: 0.9005847953216374\n",
            "\n",
            "With entropy, max_depth=10, min_samples_leaf=20\n",
            "Train Accuracy: 0.9371859296482412\n",
            "Test Accuracy: 0.847953216374269\n",
            "\n",
            "With entropy, max_depth=10, min_samples_leaf=50\n",
            "Train Accuracy: 0.9371859296482412\n",
            "Test Accuracy: 0.847953216374269\n",
            "\n",
            "With entropy, max_depth=20, min_samples_leaf=10\n",
            "Train Accuracy: 0.9673366834170855\n",
            "Test Accuracy: 0.9005847953216374\n",
            "\n",
            "With entropy, max_depth=20, min_samples_leaf=20\n",
            "Train Accuracy: 0.9371859296482412\n",
            "Test Accuracy: 0.847953216374269\n",
            "\n",
            "With entropy, max_depth=20, min_samples_leaf=50\n",
            "Train Accuracy: 0.9371859296482412\n",
            "Test Accuracy: 0.847953216374269\n",
            "\n",
            "With entropy, max_depth=50, min_samples_leaf=10\n",
            "Train Accuracy: 0.9673366834170855\n",
            "Test Accuracy: 0.9064327485380117\n",
            "\n",
            "With entropy, max_depth=50, min_samples_leaf=20\n",
            "Train Accuracy: 0.9371859296482412\n",
            "Test Accuracy: 0.847953216374269\n",
            "\n",
            "With entropy, max_depth=50, min_samples_leaf=50\n",
            "Train Accuracy: 0.9371859296482412\n",
            "Test Accuracy: 0.847953216374269\n",
            "\n",
            "With entropy, max_depth=100, min_samples_leaf=10\n",
            "Train Accuracy: 0.9673366834170855\n",
            "Test Accuracy: 0.9064327485380117\n",
            "\n",
            "With entropy, max_depth=100, min_samples_leaf=20\n",
            "Train Accuracy: 0.9371859296482412\n",
            "Test Accuracy: 0.847953216374269\n",
            "\n",
            "With entropy, max_depth=100, min_samples_leaf=50\n",
            "Train Accuracy: 0.9371859296482412\n",
            "Test Accuracy: 0.847953216374269\n",
            "\n",
            "0.9415204678362573 []\n"
          ]
        }
      ]
    },
    {
      "cell_type": "markdown",
      "source": [
        "Tuning hyper-prameters did not give us any better results."
      ],
      "metadata": {
        "id": "UgUPUNgV_Kz7"
      }
    },
    {
      "cell_type": "code",
      "source": [
        "from sklearn.model_selection import GridSearchCV"
      ],
      "metadata": {
        "id": "X9FYXPhSws3a"
      },
      "execution_count": 83,
      "outputs": []
    },
    {
      "cell_type": "code",
      "source": [
        "#Let's use GridSearch CV for tuning Hyper-parameters\n",
        "tuned_parameters = {\"criterion\": [\"gini\", \"entropy\"], 'max_depth': [10, 20, 50, 100], 'min_samples_leaf': [10, 20, 50]}\n",
        "cv_grid = GridSearchCV(model, param_grid = tuned_parameters, verbose = 5) # 'recall', my_score\n",
        "cv_grid.fit(X_train, y_train)\n",
        "print()\n",
        "best_parameters = cv_grid.best_estimator_.get_params()\n",
        "print('best parameters', best_parameters)\n",
        "best_predictor= cv_grid.best_estimator_"
      ],
      "metadata": {
        "colab": {
          "base_uri": "https://localhost:8080/"
        },
        "id": "MGRhchZwvpWv",
        "outputId": "f509c02a-3013-42d8-e754-5d5a8251ed08"
      },
      "execution_count": 86,
      "outputs": [
        {
          "output_type": "stream",
          "name": "stdout",
          "text": [
            "Fitting 5 folds for each of 24 candidates, totalling 120 fits\n",
            "[CV 1/5] END criterion=gini, max_depth=10, min_samples_leaf=10;, score=0.925 total time=   0.0s\n",
            "[CV 2/5] END criterion=gini, max_depth=10, min_samples_leaf=10;, score=0.938 total time=   0.0s\n",
            "[CV 3/5] END criterion=gini, max_depth=10, min_samples_leaf=10;, score=0.963 total time=   0.0s\n",
            "[CV 4/5] END criterion=gini, max_depth=10, min_samples_leaf=10;, score=0.975 total time=   0.0s\n",
            "[CV 5/5] END criterion=gini, max_depth=10, min_samples_leaf=10;, score=0.962 total time=   0.0s\n",
            "[CV 1/5] END criterion=gini, max_depth=10, min_samples_leaf=20;, score=0.900 total time=   0.0s\n",
            "[CV 2/5] END criterion=gini, max_depth=10, min_samples_leaf=20;, score=0.925 total time=   0.0s\n",
            "[CV 3/5] END criterion=gini, max_depth=10, min_samples_leaf=20;, score=0.963 total time=   0.0s\n",
            "[CV 4/5] END criterion=gini, max_depth=10, min_samples_leaf=20;, score=0.924 total time=   0.0s\n",
            "[CV 5/5] END criterion=gini, max_depth=10, min_samples_leaf=20;, score=0.937 total time=   0.0s\n",
            "[CV 1/5] END criterion=gini, max_depth=10, min_samples_leaf=50;, score=0.900 total time=   0.0s\n",
            "[CV 2/5] END criterion=gini, max_depth=10, min_samples_leaf=50;, score=0.925 total time=   0.0s\n",
            "[CV 3/5] END criterion=gini, max_depth=10, min_samples_leaf=50;, score=0.975 total time=   0.0s\n",
            "[CV 4/5] END criterion=gini, max_depth=10, min_samples_leaf=50;, score=0.937 total time=   0.0s\n",
            "[CV 5/5] END criterion=gini, max_depth=10, min_samples_leaf=50;, score=0.937 total time=   0.0s\n",
            "[CV 1/5] END criterion=gini, max_depth=20, min_samples_leaf=10;, score=0.925 total time=   0.0s\n",
            "[CV 2/5] END criterion=gini, max_depth=20, min_samples_leaf=10;, score=0.938 total time=   0.0s\n",
            "[CV 3/5] END criterion=gini, max_depth=20, min_samples_leaf=10;, score=0.963 total time=   0.0s\n",
            "[CV 4/5] END criterion=gini, max_depth=20, min_samples_leaf=10;, score=0.937 total time=   0.0s\n",
            "[CV 5/5] END criterion=gini, max_depth=20, min_samples_leaf=10;, score=0.962 total time=   0.0s\n",
            "[CV 1/5] END criterion=gini, max_depth=20, min_samples_leaf=20;, score=0.900 total time=   0.0s\n",
            "[CV 2/5] END criterion=gini, max_depth=20, min_samples_leaf=20;, score=0.925 total time=   0.0s\n",
            "[CV 3/5] END criterion=gini, max_depth=20, min_samples_leaf=20;, score=0.963 total time=   0.0s\n",
            "[CV 4/5] END criterion=gini, max_depth=20, min_samples_leaf=20;, score=0.924 total time=   0.0s\n",
            "[CV 5/5] END criterion=gini, max_depth=20, min_samples_leaf=20;, score=0.937 total time=   0.0s\n",
            "[CV 1/5] END criterion=gini, max_depth=20, min_samples_leaf=50;, score=0.900 total time=   0.0s\n",
            "[CV 2/5] END criterion=gini, max_depth=20, min_samples_leaf=50;, score=0.925 total time=   0.0s\n",
            "[CV 3/5] END criterion=gini, max_depth=20, min_samples_leaf=50;, score=0.975 total time=   0.0s\n",
            "[CV 4/5] END criterion=gini, max_depth=20, min_samples_leaf=50;, score=0.937 total time=   0.0s\n",
            "[CV 5/5] END criterion=gini, max_depth=20, min_samples_leaf=50;, score=0.937 total time=   0.0s\n",
            "[CV 1/5] END criterion=gini, max_depth=50, min_samples_leaf=10;, score=0.925 total time=   0.0s\n",
            "[CV 2/5] END criterion=gini, max_depth=50, min_samples_leaf=10;, score=0.938 total time=   0.0s\n",
            "[CV 3/5] END criterion=gini, max_depth=50, min_samples_leaf=10;, score=0.963 total time=   0.0s\n",
            "[CV 4/5] END criterion=gini, max_depth=50, min_samples_leaf=10;, score=0.937 total time=   0.0s\n",
            "[CV 5/5] END criterion=gini, max_depth=50, min_samples_leaf=10;, score=0.962 total time=   0.0s\n",
            "[CV 1/5] END criterion=gini, max_depth=50, min_samples_leaf=20;, score=0.900 total time=   0.0s\n",
            "[CV 2/5] END criterion=gini, max_depth=50, min_samples_leaf=20;, score=0.925 total time=   0.0s\n",
            "[CV 3/5] END criterion=gini, max_depth=50, min_samples_leaf=20;, score=0.963 total time=   0.0s\n",
            "[CV 4/5] END criterion=gini, max_depth=50, min_samples_leaf=20;, score=0.937 total time=   0.0s\n",
            "[CV 5/5] END criterion=gini, max_depth=50, min_samples_leaf=20;, score=0.937 total time=   0.0s\n",
            "[CV 1/5] END criterion=gini, max_depth=50, min_samples_leaf=50;, score=0.900 total time=   0.0s\n",
            "[CV 2/5] END criterion=gini, max_depth=50, min_samples_leaf=50;, score=0.925 total time=   0.0s\n",
            "[CV 3/5] END criterion=gini, max_depth=50, min_samples_leaf=50;, score=0.975 total time=   0.0s\n",
            "[CV 4/5] END criterion=gini, max_depth=50, min_samples_leaf=50;, score=0.937 total time=   0.0s\n",
            "[CV 5/5] END criterion=gini, max_depth=50, min_samples_leaf=50;, score=0.937 total time=   0.0s\n",
            "[CV 1/5] END criterion=gini, max_depth=100, min_samples_leaf=10;, score=0.925 total time=   0.0s\n",
            "[CV 2/5] END criterion=gini, max_depth=100, min_samples_leaf=10;, score=0.938 total time=   0.0s\n",
            "[CV 3/5] END criterion=gini, max_depth=100, min_samples_leaf=10;, score=0.963 total time=   0.0s\n",
            "[CV 4/5] END criterion=gini, max_depth=100, min_samples_leaf=10;, score=0.937 total time=   0.0s\n",
            "[CV 5/5] END criterion=gini, max_depth=100, min_samples_leaf=10;, score=0.962 total time=   0.0s\n",
            "[CV 1/5] END criterion=gini, max_depth=100, min_samples_leaf=20;, score=0.900 total time=   0.0s\n",
            "[CV 2/5] END criterion=gini, max_depth=100, min_samples_leaf=20;, score=0.925 total time=   0.0s\n",
            "[CV 3/5] END criterion=gini, max_depth=100, min_samples_leaf=20;, score=0.963 total time=   0.0s\n",
            "[CV 4/5] END criterion=gini, max_depth=100, min_samples_leaf=20;, score=0.937 total time=   0.0s\n",
            "[CV 5/5] END criterion=gini, max_depth=100, min_samples_leaf=20;, score=0.937 total time=   0.0s\n",
            "[CV 1/5] END criterion=gini, max_depth=100, min_samples_leaf=50;, score=0.900 total time=   0.0s\n",
            "[CV 2/5] END criterion=gini, max_depth=100, min_samples_leaf=50;, score=0.925 total time=   0.0s\n",
            "[CV 3/5] END criterion=gini, max_depth=100, min_samples_leaf=50;, score=0.975 total time=   0.0s\n",
            "[CV 4/5] END criterion=gini, max_depth=100, min_samples_leaf=50;, score=0.937 total time=   0.0s\n",
            "[CV 5/5] END criterion=gini, max_depth=100, min_samples_leaf=50;, score=0.937 total time=   0.0s\n",
            "[CV 1/5] END criterion=entropy, max_depth=10, min_samples_leaf=10;, score=0.938 total time=   0.0s\n",
            "[CV 2/5] END criterion=entropy, max_depth=10, min_samples_leaf=10;, score=0.938 total time=   0.0s\n",
            "[CV 3/5] END criterion=entropy, max_depth=10, min_samples_leaf=10;, score=0.963 total time=   0.0s\n",
            "[CV 4/5] END criterion=entropy, max_depth=10, min_samples_leaf=10;, score=0.937 total time=   0.0s\n",
            "[CV 5/5] END criterion=entropy, max_depth=10, min_samples_leaf=10;, score=0.962 total time=   0.0s\n",
            "[CV 1/5] END criterion=entropy, max_depth=10, min_samples_leaf=20;, score=0.938 total time=   0.0s\n",
            "[CV 2/5] END criterion=entropy, max_depth=10, min_samples_leaf=20;, score=0.925 total time=   0.0s\n",
            "[CV 3/5] END criterion=entropy, max_depth=10, min_samples_leaf=20;, score=0.938 total time=   0.0s\n",
            "[CV 4/5] END criterion=entropy, max_depth=10, min_samples_leaf=20;, score=0.975 total time=   0.0s\n",
            "[CV 5/5] END criterion=entropy, max_depth=10, min_samples_leaf=20;, score=0.937 total time=   0.0s\n",
            "[CV 1/5] END criterion=entropy, max_depth=10, min_samples_leaf=50;, score=0.900 total time=   0.0s\n",
            "[CV 2/5] END criterion=entropy, max_depth=10, min_samples_leaf=50;, score=0.925 total time=   0.0s\n",
            "[CV 3/5] END criterion=entropy, max_depth=10, min_samples_leaf=50;, score=0.975 total time=   0.0s\n",
            "[CV 4/5] END criterion=entropy, max_depth=10, min_samples_leaf=50;, score=0.937 total time=   0.0s\n",
            "[CV 5/5] END criterion=entropy, max_depth=10, min_samples_leaf=50;, score=0.937 total time=   0.0s\n",
            "[CV 1/5] END criterion=entropy, max_depth=20, min_samples_leaf=10;, score=0.938 total time=   0.0s\n",
            "[CV 2/5] END criterion=entropy, max_depth=20, min_samples_leaf=10;, score=0.938 total time=   0.0s\n",
            "[CV 3/5] END criterion=entropy, max_depth=20, min_samples_leaf=10;, score=0.963 total time=   0.0s\n",
            "[CV 4/5] END criterion=entropy, max_depth=20, min_samples_leaf=10;, score=0.949 total time=   0.0s\n",
            "[CV 5/5] END criterion=entropy, max_depth=20, min_samples_leaf=10;, score=0.962 total time=   0.0s\n",
            "[CV 1/5] END criterion=entropy, max_depth=20, min_samples_leaf=20;, score=0.938 total time=   0.0s\n",
            "[CV 2/5] END criterion=entropy, max_depth=20, min_samples_leaf=20;, score=0.925 total time=   0.0s\n",
            "[CV 3/5] END criterion=entropy, max_depth=20, min_samples_leaf=20;, score=0.938 total time=   0.0s\n",
            "[CV 4/5] END criterion=entropy, max_depth=20, min_samples_leaf=20;, score=0.975 total time=   0.0s\n",
            "[CV 5/5] END criterion=entropy, max_depth=20, min_samples_leaf=20;, score=0.937 total time=   0.0s\n",
            "[CV 1/5] END criterion=entropy, max_depth=20, min_samples_leaf=50;, score=0.900 total time=   0.0s\n",
            "[CV 2/5] END criterion=entropy, max_depth=20, min_samples_leaf=50;, score=0.925 total time=   0.0s\n",
            "[CV 3/5] END criterion=entropy, max_depth=20, min_samples_leaf=50;, score=0.975 total time=   0.0s\n",
            "[CV 4/5] END criterion=entropy, max_depth=20, min_samples_leaf=50;, score=0.937 total time=   0.0s\n",
            "[CV 5/5] END criterion=entropy, max_depth=20, min_samples_leaf=50;, score=0.937 total time=   0.0s\n",
            "[CV 1/5] END criterion=entropy, max_depth=50, min_samples_leaf=10;, score=0.938 total time=   0.0s\n",
            "[CV 2/5] END criterion=entropy, max_depth=50, min_samples_leaf=10;, score=0.938 total time=   0.0s\n",
            "[CV 3/5] END criterion=entropy, max_depth=50, min_samples_leaf=10;, score=0.963 total time=   0.0s\n",
            "[CV 4/5] END criterion=entropy, max_depth=50, min_samples_leaf=10;, score=0.949 total time=   0.0s\n",
            "[CV 5/5] END criterion=entropy, max_depth=50, min_samples_leaf=10;, score=0.962 total time=   0.0s\n",
            "[CV 1/5] END criterion=entropy, max_depth=50, min_samples_leaf=20;, score=0.938 total time=   0.0s\n",
            "[CV 2/5] END criterion=entropy, max_depth=50, min_samples_leaf=20;, score=0.925 total time=   0.0s\n",
            "[CV 3/5] END criterion=entropy, max_depth=50, min_samples_leaf=20;, score=0.938 total time=   0.0s\n",
            "[CV 4/5] END criterion=entropy, max_depth=50, min_samples_leaf=20;, score=0.975 total time=   0.0s\n",
            "[CV 5/5] END criterion=entropy, max_depth=50, min_samples_leaf=20;, score=0.937 total time=   0.0s\n",
            "[CV 1/5] END criterion=entropy, max_depth=50, min_samples_leaf=50;, score=0.900 total time=   0.0s\n",
            "[CV 2/5] END criterion=entropy, max_depth=50, min_samples_leaf=50;, score=0.925 total time=   0.0s\n",
            "[CV 3/5] END criterion=entropy, max_depth=50, min_samples_leaf=50;, score=0.975 total time=   0.0s\n",
            "[CV 4/5] END criterion=entropy, max_depth=50, min_samples_leaf=50;, score=0.937 total time=   0.0s\n",
            "[CV 5/5] END criterion=entropy, max_depth=50, min_samples_leaf=50;, score=0.937 total time=   0.0s\n",
            "[CV 1/5] END criterion=entropy, max_depth=100, min_samples_leaf=10;, score=0.938 total time=   0.0s\n",
            "[CV 2/5] END criterion=entropy, max_depth=100, min_samples_leaf=10;, score=0.938 total time=   0.0s\n",
            "[CV 3/5] END criterion=entropy, max_depth=100, min_samples_leaf=10;, score=0.963 total time=   0.0s\n",
            "[CV 4/5] END criterion=entropy, max_depth=100, min_samples_leaf=10;, score=0.937 total time=   0.0s\n",
            "[CV 5/5] END criterion=entropy, max_depth=100, min_samples_leaf=10;, score=0.962 total time=   0.0s\n",
            "[CV 1/5] END criterion=entropy, max_depth=100, min_samples_leaf=20;, score=0.938 total time=   0.0s\n",
            "[CV 2/5] END criterion=entropy, max_depth=100, min_samples_leaf=20;, score=0.925 total time=   0.0s\n",
            "[CV 3/5] END criterion=entropy, max_depth=100, min_samples_leaf=20;, score=0.938 total time=   0.0s\n",
            "[CV 4/5] END criterion=entropy, max_depth=100, min_samples_leaf=20;, score=0.975 total time=   0.0s\n",
            "[CV 5/5] END criterion=entropy, max_depth=100, min_samples_leaf=20;, score=0.937 total time=   0.0s\n",
            "[CV 1/5] END criterion=entropy, max_depth=100, min_samples_leaf=50;, score=0.900 total time=   0.0s\n",
            "[CV 2/5] END criterion=entropy, max_depth=100, min_samples_leaf=50;, score=0.925 total time=   0.0s\n",
            "[CV 3/5] END criterion=entropy, max_depth=100, min_samples_leaf=50;, score=0.975 total time=   0.0s\n",
            "[CV 4/5] END criterion=entropy, max_depth=100, min_samples_leaf=50;, score=0.937 total time=   0.0s\n",
            "[CV 5/5] END criterion=entropy, max_depth=100, min_samples_leaf=50;, score=0.937 total time=   0.0s\n",
            "\n",
            "best parameters {'ccp_alpha': 0.0, 'class_weight': None, 'criterion': 'gini', 'max_depth': 10, 'max_features': None, 'max_leaf_nodes': None, 'min_impurity_decrease': 0.0, 'min_samples_leaf': 10, 'min_samples_split': 2, 'min_weight_fraction_leaf': 0.0, 'random_state': None, 'splitter': 'best'}\n"
          ]
        }
      ]
    },
    {
      "cell_type": "code",
      "source": [
        "print(classification_report(y_test,best_predictor.predict(X_test)))"
      ],
      "metadata": {
        "colab": {
          "base_uri": "https://localhost:8080/"
        },
        "id": "SmmyI90ZxAQC",
        "outputId": "4b026796-e187-463c-c245-5e422b1b5594"
      },
      "execution_count": 90,
      "outputs": [
        {
          "output_type": "stream",
          "name": "stdout",
          "text": [
            "              precision    recall  f1-score   support\n",
            "\n",
            "           0       0.84      0.78      0.81        63\n",
            "           1       0.88      0.92      0.90       108\n",
            "\n",
            "    accuracy                           0.87       171\n",
            "   macro avg       0.86      0.85      0.85       171\n",
            "weighted avg       0.86      0.87      0.86       171\n",
            "\n"
          ]
        }
      ]
    },
    {
      "cell_type": "code",
      "source": [
        "#not great/:"
      ],
      "metadata": {
        "id": "S9tJyDHvxshh"
      },
      "execution_count": null,
      "outputs": []
    },
    {
      "cell_type": "markdown",
      "source": [
        "#RandomForestClassifier"
      ],
      "metadata": {
        "id": "zKx0MhD6_jbg"
      }
    },
    {
      "cell_type": "code",
      "source": [
        "import numpy as np\n",
        "y=np.array(df['y'])"
      ],
      "metadata": {
        "id": "yAR6vfde9_BY"
      },
      "execution_count": 53,
      "outputs": []
    },
    {
      "cell_type": "code",
      "source": [
        "# prompt: frequency of the list y:\n",
        "\n",
        "from collections import Counter\n",
        "y_counts = Counter(y)\n",
        "print(y_counts)\n",
        "#no need of over/under sampling"
      ],
      "metadata": {
        "colab": {
          "base_uri": "https://localhost:8080/"
        },
        "id": "YFPbd-v7bNbY",
        "outputId": "45247d06-3559-4c90-964e-b51659f3eecd"
      },
      "execution_count": 54,
      "outputs": [
        {
          "output_type": "stream",
          "name": "stdout",
          "text": [
            "Counter({1: 357, 0: 212})\n"
          ]
        }
      ]
    },
    {
      "cell_type": "code",
      "source": [
        "from sklearn.ensemble import RandomForestClassifier, AdaBoostClassifier, GradientBoostingClassifier, ExtraTreesClassifier\n",
        "from sklearn.metrics import recall_score, precision_score, roc_curve, roc_auc_score, auc, confusion_matrix, accuracy_score, classification_report"
      ],
      "metadata": {
        "id": "VFaqmI0PcAUf"
      },
      "execution_count": 57,
      "outputs": []
    },
    {
      "cell_type": "code",
      "source": [
        "model_forest= RandomForestClassifier(random_state=0, class_weight= 'balanced')"
      ],
      "metadata": {
        "id": "37ZhnVLleaIv"
      },
      "execution_count": 58,
      "outputs": []
    },
    {
      "cell_type": "code",
      "source": [
        "model_forest= model_forest.fit(X_train, y_train)"
      ],
      "metadata": {
        "id": "xCFsf6yje8Ja"
      },
      "execution_count": 59,
      "outputs": []
    },
    {
      "cell_type": "markdown",
      "source": [
        "##Results"
      ],
      "metadata": {
        "id": "P4oLLLPnj2Yo"
      }
    },
    {
      "cell_type": "code",
      "source": [
        "y_train_pred= model_forest.predict(X_train)\n",
        "y_pred=model_forest.predict(X_test)\n",
        "print(\"Train\\nrecall score:\", recall_score(y_train, y_train_pred))\n",
        "print(\"precision score:\", precision_score(y_train, y_train_pred))\n",
        "print(\"Test\\nrecall score:\", recall_score(y_test, y_pred))\n",
        "print(\"precision score:\", precision_score(y_test, y_pred))\n",
        "print(\"Accuracy:\",accuracy_score(y_test,y_pred))\n",
        "print(\"Confusion matrix:\\n\", confusion_matrix(y_test, y_pred))"
      ],
      "metadata": {
        "colab": {
          "base_uri": "https://localhost:8080/"
        },
        "id": "aidHnuX2fmc6",
        "outputId": "cc1dc047-40db-4371-f35c-30536c12ba06"
      },
      "execution_count": 60,
      "outputs": [
        {
          "output_type": "stream",
          "name": "stdout",
          "text": [
            "Train\n",
            "recall score: 1.0\n",
            "precision score: 1.0\n",
            "Test\n",
            "recall score: 0.9814814814814815\n",
            "precision score: 0.9464285714285714\n",
            "Accuracy: 0.9532163742690059\n",
            "Confusion matrix:\n",
            " [[ 57   6]\n",
            " [  2 106]]\n"
          ]
        }
      ]
    },
    {
      "cell_type": "markdown",
      "source": [
        "#Gradient Boosting Classification"
      ],
      "metadata": {
        "id": "gMz0sBkZkMzf"
      }
    },
    {
      "cell_type": "code",
      "source": [
        "from sklearn.ensemble import GradientBoostingClassifier"
      ],
      "metadata": {
        "id": "IpiTd2AmkMfQ"
      },
      "execution_count": 61,
      "outputs": []
    },
    {
      "cell_type": "code",
      "source": [
        "gradient_booster = GradientBoostingClassifier(learning_rate=0.1)\n",
        "gradient_booster.get_params()"
      ],
      "metadata": {
        "colab": {
          "base_uri": "https://localhost:8080/"
        },
        "id": "LCqTTPDegh4l",
        "outputId": "1ccc7c46-e18b-4c14-ef2c-3d3de1161cda"
      },
      "execution_count": 62,
      "outputs": [
        {
          "output_type": "execute_result",
          "data": {
            "text/plain": [
              "{'ccp_alpha': 0.0,\n",
              " 'criterion': 'friedman_mse',\n",
              " 'init': None,\n",
              " 'learning_rate': 0.1,\n",
              " 'loss': 'log_loss',\n",
              " 'max_depth': 3,\n",
              " 'max_features': None,\n",
              " 'max_leaf_nodes': None,\n",
              " 'min_impurity_decrease': 0.0,\n",
              " 'min_samples_leaf': 1,\n",
              " 'min_samples_split': 2,\n",
              " 'min_weight_fraction_leaf': 0.0,\n",
              " 'n_estimators': 100,\n",
              " 'n_iter_no_change': None,\n",
              " 'random_state': None,\n",
              " 'subsample': 1.0,\n",
              " 'tol': 0.0001,\n",
              " 'validation_fraction': 0.1,\n",
              " 'verbose': 0,\n",
              " 'warm_start': False}"
            ]
          },
          "metadata": {},
          "execution_count": 62
        }
      ]
    },
    {
      "cell_type": "code",
      "source": [
        "gradient_booster.fit(X_train,y_train)\n",
        "print(classification_report(y_test,gradient_booster.predict(X_test)))"
      ],
      "metadata": {
        "colab": {
          "base_uri": "https://localhost:8080/"
        },
        "id": "Md-Z5pZot9_r",
        "outputId": "77117fde-cd08-43d5-fed5-204942d5f1e4"
      },
      "execution_count": 65,
      "outputs": [
        {
          "output_type": "stream",
          "name": "stdout",
          "text": [
            "              precision    recall  f1-score   support\n",
            "\n",
            "           0       0.98      0.92      0.95        63\n",
            "           1       0.96      0.99      0.97       108\n",
            "\n",
            "    accuracy                           0.96       171\n",
            "   macro avg       0.97      0.96      0.96       171\n",
            "weighted avg       0.97      0.96      0.96       171\n",
            "\n"
          ]
        }
      ]
    },
    {
      "cell_type": "markdown",
      "source": [
        "#KNN Classifier"
      ],
      "metadata": {
        "id": "uuwh3OACu3SW"
      }
    },
    {
      "cell_type": "code",
      "source": [
        "from sklearn.neighbors import KNeighborsClassifier"
      ],
      "metadata": {
        "id": "PuO-shbNugbA"
      },
      "execution_count": 67,
      "outputs": []
    },
    {
      "cell_type": "code",
      "source": [
        "model = KNeighborsClassifier(n_neighbors=5)\n",
        "model.fit(X_train,y_train)\n",
        "y_pred= model.predict(X_test) # 0:Overcast, 2:Mild\n",
        "print(\"Accuracy:\",metrics.accuracy_score(y_test, y_pred))"
      ],
      "metadata": {
        "colab": {
          "base_uri": "https://localhost:8080/"
        },
        "id": "Jrzb5kw_u64y",
        "outputId": "e6b4aa22-4ed2-423e-ec77-2b8a175c1b98"
      },
      "execution_count": 71,
      "outputs": [
        {
          "output_type": "stream",
          "name": "stdout",
          "text": [
            "Accuracy: 0.9298245614035088\n"
          ]
        }
      ]
    },
    {
      "cell_type": "markdown",
      "source": [
        "*GBM is better than anyone here.*"
      ],
      "metadata": {
        "id": "TE0yeHx1x3iu"
      }
    }
  ]
}